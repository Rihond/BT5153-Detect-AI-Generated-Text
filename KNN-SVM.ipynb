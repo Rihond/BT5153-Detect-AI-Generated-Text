{
 "cells": [
  {
   "cell_type": "code",
   "execution_count": 2,
   "metadata": {},
   "outputs": [
    {
     "data": {
      "text/html": [
       "<div>\n",
       "<style scoped>\n",
       "    .dataframe tbody tr th:only-of-type {\n",
       "        vertical-align: middle;\n",
       "    }\n",
       "\n",
       "    .dataframe tbody tr th {\n",
       "        vertical-align: top;\n",
       "    }\n",
       "\n",
       "    .dataframe thead th {\n",
       "        text-align: right;\n",
       "    }\n",
       "</style>\n",
       "<table border=\"1\" class=\"dataframe\">\n",
       "  <thead>\n",
       "    <tr style=\"text-align: right;\">\n",
       "      <th></th>\n",
       "      <th>id</th>\n",
       "      <th>url</th>\n",
       "      <th>title</th>\n",
       "      <th>text</th>\n",
       "      <th>title_len</th>\n",
       "      <th>wiki_intro_len</th>\n",
       "      <th>generated_intro_len</th>\n",
       "      <th>prompt</th>\n",
       "      <th>generated_text</th>\n",
       "      <th>prompt_tokens</th>\n",
       "      <th>generated_text_tokens</th>\n",
       "      <th>label</th>\n",
       "    </tr>\n",
       "  </thead>\n",
       "  <tbody>\n",
       "    <tr>\n",
       "      <th>0</th>\n",
       "      <td>17310494</td>\n",
       "      <td>https://en.wikipedia.org/wiki/Sekhukhune</td>\n",
       "      <td>Sekhukhune</td>\n",
       "      <td>Sekhukhune I (Matsebe; circa 1814 – 13 August ...</td>\n",
       "      <td>1</td>\n",
       "      <td>177</td>\n",
       "      <td>214</td>\n",
       "      <td>200 word wikipedia style introduction on 'Sekh...</td>\n",
       "      <td>September 1881), also known as Sekhukhuni, wa...</td>\n",
       "      <td>35</td>\n",
       "      <td>282</td>\n",
       "      <td>0</td>\n",
       "    </tr>\n",
       "    <tr>\n",
       "      <th>1</th>\n",
       "      <td>762661</td>\n",
       "      <td>https://en.wikipedia.org/wiki/Mount%20Washingt...</td>\n",
       "      <td>Mount Washington (Olympics)</td>\n",
       "      <td>Mount Washington is a  peak in the Olympic Mou...</td>\n",
       "      <td>3</td>\n",
       "      <td>156</td>\n",
       "      <td>110</td>\n",
       "      <td>200 word wikipedia style introduction on 'Moun...</td>\n",
       "      <td>the White Mountains of New Hampshire, in the ...</td>\n",
       "      <td>26</td>\n",
       "      <td>134</td>\n",
       "      <td>0</td>\n",
       "    </tr>\n",
       "    <tr>\n",
       "      <th>2</th>\n",
       "      <td>33838760</td>\n",
       "      <td>https://en.wikipedia.org/wiki/Acer%20hillsi</td>\n",
       "      <td>Acer hillsi</td>\n",
       "      <td>Acer hillsi is an extinct maple species in the...</td>\n",
       "      <td>2</td>\n",
       "      <td>291</td>\n",
       "      <td>110</td>\n",
       "      <td>200 word wikipedia style introduction on 'Acer...</td>\n",
       "      <td>that was endemic to the central Appalachian M...</td>\n",
       "      <td>25</td>\n",
       "      <td>136</td>\n",
       "      <td>0</td>\n",
       "    </tr>\n",
       "    <tr>\n",
       "      <th>3</th>\n",
       "      <td>2189174</td>\n",
       "      <td>https://en.wikipedia.org/wiki/Derrick%20Sherwin</td>\n",
       "      <td>Derrick Sherwin</td>\n",
       "      <td>Derrick George Sherwin (16 April 1936 – 9 Dece...</td>\n",
       "      <td>2</td>\n",
       "      <td>153</td>\n",
       "      <td>111</td>\n",
       "      <td>200 word wikipedia style introduction on 'Derr...</td>\n",
       "      <td>9 December 2002) was an English actor, best k...</td>\n",
       "      <td>26</td>\n",
       "      <td>135</td>\n",
       "      <td>1</td>\n",
       "    </tr>\n",
       "    <tr>\n",
       "      <th>4</th>\n",
       "      <td>4124677</td>\n",
       "      <td>https://en.wikipedia.org/wiki/Windows%20shell</td>\n",
       "      <td>Windows shell</td>\n",
       "      <td>The Windows shell is the graphical user interf...</td>\n",
       "      <td>2</td>\n",
       "      <td>185</td>\n",
       "      <td>135</td>\n",
       "      <td>200 word wikipedia style introduction on 'Wind...</td>\n",
       "      <td>interface that provides a windowing environme...</td>\n",
       "      <td>22</td>\n",
       "      <td>147</td>\n",
       "      <td>1</td>\n",
       "    </tr>\n",
       "  </tbody>\n",
       "</table>\n",
       "</div>"
      ],
      "text/plain": [
       "         id                                                url  \\\n",
       "0  17310494           https://en.wikipedia.org/wiki/Sekhukhune   \n",
       "1    762661  https://en.wikipedia.org/wiki/Mount%20Washingt...   \n",
       "2  33838760        https://en.wikipedia.org/wiki/Acer%20hillsi   \n",
       "3   2189174    https://en.wikipedia.org/wiki/Derrick%20Sherwin   \n",
       "4   4124677      https://en.wikipedia.org/wiki/Windows%20shell   \n",
       "\n",
       "                         title  \\\n",
       "0                   Sekhukhune   \n",
       "1  Mount Washington (Olympics)   \n",
       "2                  Acer hillsi   \n",
       "3              Derrick Sherwin   \n",
       "4                Windows shell   \n",
       "\n",
       "                                                text  title_len  \\\n",
       "0  Sekhukhune I (Matsebe; circa 1814 – 13 August ...          1   \n",
       "1  Mount Washington is a  peak in the Olympic Mou...          3   \n",
       "2  Acer hillsi is an extinct maple species in the...          2   \n",
       "3  Derrick George Sherwin (16 April 1936 – 9 Dece...          2   \n",
       "4  The Windows shell is the graphical user interf...          2   \n",
       "\n",
       "   wiki_intro_len  generated_intro_len  \\\n",
       "0             177                  214   \n",
       "1             156                  110   \n",
       "2             291                  110   \n",
       "3             153                  111   \n",
       "4             185                  135   \n",
       "\n",
       "                                              prompt  \\\n",
       "0  200 word wikipedia style introduction on 'Sekh...   \n",
       "1  200 word wikipedia style introduction on 'Moun...   \n",
       "2  200 word wikipedia style introduction on 'Acer...   \n",
       "3  200 word wikipedia style introduction on 'Derr...   \n",
       "4  200 word wikipedia style introduction on 'Wind...   \n",
       "\n",
       "                                      generated_text  prompt_tokens  \\\n",
       "0   September 1881), also known as Sekhukhuni, wa...             35   \n",
       "1   the White Mountains of New Hampshire, in the ...             26   \n",
       "2   that was endemic to the central Appalachian M...             25   \n",
       "3   9 December 2002) was an English actor, best k...             26   \n",
       "4   interface that provides a windowing environme...             22   \n",
       "\n",
       "   generated_text_tokens  label  \n",
       "0                    282      0  \n",
       "1                    134      0  \n",
       "2                    136      0  \n",
       "3                    135      1  \n",
       "4                    147      1  "
      ]
     },
     "execution_count": 2,
     "metadata": {},
     "output_type": "execute_result"
    }
   ],
   "source": [
    "import pandas as pd\n",
    "\n",
    "data = pd.read_csv('/Users/xiaofeichen/Downloads/BT5153/combined_text_dataset.csv')\n",
    "\n",
    "data.head()"
   ]
  },
  {
   "cell_type": "code",
   "execution_count": 3,
   "metadata": {},
   "outputs": [
    {
     "name": "stderr",
     "output_type": "stream",
     "text": [
      "[nltk_data] Downloading package punkt to\n",
      "[nltk_data]     /Users/xiaofeichen/nltk_data...\n",
      "[nltk_data]   Package punkt is already up-to-date!\n",
      "[nltk_data] Downloading package averaged_perceptron_tagger to\n",
      "[nltk_data]     /Users/xiaofeichen/nltk_data...\n",
      "[nltk_data]   Package averaged_perceptron_tagger is already up-to-\n",
      "[nltk_data]       date!\n",
      "[nltk_data] Downloading package stopwords to\n",
      "[nltk_data]     /Users/xiaofeichen/nltk_data...\n",
      "[nltk_data]   Package stopwords is already up-to-date!\n",
      "[nltk_data] Downloading package wordnet to\n",
      "[nltk_data]     /Users/xiaofeichen/nltk_data...\n",
      "[nltk_data]   Package wordnet is already up-to-date!\n"
     ]
    },
    {
     "data": {
      "text/plain": [
       "True"
      ]
     },
     "execution_count": 3,
     "metadata": {},
     "output_type": "execute_result"
    }
   ],
   "source": [
    "import nltk\n",
    "from nltk.tokenize import word_tokenize, sent_tokenize\n",
    "from nltk.corpus import stopwords\n",
    "from collections import Counter\n",
    "import string\n",
    "\n",
    "# Download necessary NLTK resources\n",
    "nltk.download('punkt')\n",
    "nltk.download('averaged_perceptron_tagger')\n",
    "nltk.download('stopwords')\n",
    "nltk.download('wordnet')\n"
   ]
  },
  {
   "cell_type": "code",
   "execution_count": 4,
   "metadata": {},
   "outputs": [],
   "source": [
    "import textstat\n",
    "\n",
    "# Function to extract stylistic features\n",
    "def extract_stylistic_features(text):\n",
    "    features = {}\n",
    "    # Convert text to lowercase\n",
    "    text_lower = text.lower()\n",
    "    \n",
    "    # Calculate frequency of capitalized words\n",
    "    words = text.split()\n",
    "    capitalized_words = [word for word in words if word[0].isupper()]\n",
    "    features['capitalized_word_frequency'] = len(capitalized_words) / len(words)\n",
    "\n",
    "    \n",
    "    # Calculate frequency of stopwords\n",
    "    stopwords = nltk.corpus.stopwords.words('english')\n",
    "    stopwords_count = sum(1 for word in words if word.lower() in stopwords)\n",
    "    features['stopword_frequency'] = stopwords_count / len(words)\n",
    "    \n",
    "    # Calculate frequency of quotes\n",
    "    features['quote_frequency'] = text_lower.count('\"') / len(words)\n",
    "    \n",
    "    # Calculate punctuation ratio\n",
    "    punctuation_count = sum(1 for char in text if char in string.punctuation)\n",
    "    features['punctuation_ratio'] = punctuation_count / len(text)\n",
    "    \n",
    "    # Calculate sentence structure\n",
    "    sentences = nltk.sent_tokenize(text)\n",
    "    sentence_length = sum(len(sent.split()) for sent in sentences) / len(sentences)\n",
    "    features['average_sentence_length'] = sentence_length\n",
    "\n",
    "    return features"
   ]
  },
  {
   "cell_type": "code",
   "execution_count": 5,
   "metadata": {},
   "outputs": [],
   "source": [
    "newdf = data[['text','label']].copy()"
   ]
  },
  {
   "cell_type": "code",
   "execution_count": 6,
   "metadata": {},
   "outputs": [
    {
     "data": {
      "text/html": [
       "<div>\n",
       "<style scoped>\n",
       "    .dataframe tbody tr th:only-of-type {\n",
       "        vertical-align: middle;\n",
       "    }\n",
       "\n",
       "    .dataframe tbody tr th {\n",
       "        vertical-align: top;\n",
       "    }\n",
       "\n",
       "    .dataframe thead th {\n",
       "        text-align: right;\n",
       "    }\n",
       "</style>\n",
       "<table border=\"1\" class=\"dataframe\">\n",
       "  <thead>\n",
       "    <tr style=\"text-align: right;\">\n",
       "      <th></th>\n",
       "      <th>text</th>\n",
       "      <th>label</th>\n",
       "    </tr>\n",
       "  </thead>\n",
       "  <tbody>\n",
       "    <tr>\n",
       "      <th>0</th>\n",
       "      <td>Sekhukhune I (Matsebe; circa 1814 – 13 August ...</td>\n",
       "      <td>0</td>\n",
       "    </tr>\n",
       "    <tr>\n",
       "      <th>1</th>\n",
       "      <td>Mount Washington is a  peak in the Olympic Mou...</td>\n",
       "      <td>0</td>\n",
       "    </tr>\n",
       "    <tr>\n",
       "      <th>2</th>\n",
       "      <td>Acer hillsi is an extinct maple species in the...</td>\n",
       "      <td>0</td>\n",
       "    </tr>\n",
       "    <tr>\n",
       "      <th>3</th>\n",
       "      <td>Derrick George Sherwin (16 April 1936 – 9 Dece...</td>\n",
       "      <td>1</td>\n",
       "    </tr>\n",
       "    <tr>\n",
       "      <th>4</th>\n",
       "      <td>The Windows shell is the graphical user interf...</td>\n",
       "      <td>1</td>\n",
       "    </tr>\n",
       "  </tbody>\n",
       "</table>\n",
       "</div>"
      ],
      "text/plain": [
       "                                                text  label\n",
       "0  Sekhukhune I (Matsebe; circa 1814 – 13 August ...      0\n",
       "1  Mount Washington is a  peak in the Olympic Mou...      0\n",
       "2  Acer hillsi is an extinct maple species in the...      0\n",
       "3  Derrick George Sherwin (16 April 1936 – 9 Dece...      1\n",
       "4  The Windows shell is the graphical user interf...      1"
      ]
     },
     "execution_count": 6,
     "metadata": {},
     "output_type": "execute_result"
    }
   ],
   "source": [
    "newdf.head()"
   ]
  },
  {
   "cell_type": "code",
   "execution_count": 7,
   "metadata": {},
   "outputs": [
    {
     "data": {
      "text/html": [
       "<div>\n",
       "<style scoped>\n",
       "    .dataframe tbody tr th:only-of-type {\n",
       "        vertical-align: middle;\n",
       "    }\n",
       "\n",
       "    .dataframe tbody tr th {\n",
       "        vertical-align: top;\n",
       "    }\n",
       "\n",
       "    .dataframe thead th {\n",
       "        text-align: right;\n",
       "    }\n",
       "</style>\n",
       "<table border=\"1\" class=\"dataframe\">\n",
       "  <thead>\n",
       "    <tr style=\"text-align: right;\">\n",
       "      <th></th>\n",
       "      <th>text</th>\n",
       "      <th>label</th>\n",
       "      <th>capitalized_word_frequency</th>\n",
       "      <th>stopword_frequency</th>\n",
       "      <th>quote_frequency</th>\n",
       "      <th>punctuation_ratio</th>\n",
       "      <th>average_sentence_length</th>\n",
       "    </tr>\n",
       "  </thead>\n",
       "  <tbody>\n",
       "    <tr>\n",
       "      <th>0</th>\n",
       "      <td>Sekhukhune I (Matsebe; circa 1814 – 13 August ...</td>\n",
       "      <td>0</td>\n",
       "      <td>0.232955</td>\n",
       "      <td>0.403409</td>\n",
       "      <td>0.000000</td>\n",
       "      <td>0.026557</td>\n",
       "      <td>29.333333</td>\n",
       "    </tr>\n",
       "    <tr>\n",
       "      <th>1</th>\n",
       "      <td>Mount Washington is a  peak in the Olympic Mou...</td>\n",
       "      <td>0</td>\n",
       "      <td>0.217949</td>\n",
       "      <td>0.391026</td>\n",
       "      <td>0.000000</td>\n",
       "      <td>0.022358</td>\n",
       "      <td>17.333333</td>\n",
       "    </tr>\n",
       "    <tr>\n",
       "      <th>2</th>\n",
       "      <td>Acer hillsi is an extinct maple species in the...</td>\n",
       "      <td>0</td>\n",
       "      <td>0.221831</td>\n",
       "      <td>0.394366</td>\n",
       "      <td>0.007042</td>\n",
       "      <td>0.016797</td>\n",
       "      <td>23.666667</td>\n",
       "    </tr>\n",
       "    <tr>\n",
       "      <th>3</th>\n",
       "      <td>Derrick George Sherwin (16 April 1936 – 9 Dece...</td>\n",
       "      <td>1</td>\n",
       "      <td>0.321429</td>\n",
       "      <td>0.357143</td>\n",
       "      <td>0.000000</td>\n",
       "      <td>0.024465</td>\n",
       "      <td>18.666667</td>\n",
       "    </tr>\n",
       "    <tr>\n",
       "      <th>4</th>\n",
       "      <td>The Windows shell is the graphical user interf...</td>\n",
       "      <td>1</td>\n",
       "      <td>0.088235</td>\n",
       "      <td>0.433824</td>\n",
       "      <td>0.000000</td>\n",
       "      <td>0.018072</td>\n",
       "      <td>19.428571</td>\n",
       "    </tr>\n",
       "  </tbody>\n",
       "</table>\n",
       "</div>"
      ],
      "text/plain": [
       "                                                text  label  \\\n",
       "0  Sekhukhune I (Matsebe; circa 1814 – 13 August ...      0   \n",
       "1  Mount Washington is a  peak in the Olympic Mou...      0   \n",
       "2  Acer hillsi is an extinct maple species in the...      0   \n",
       "3  Derrick George Sherwin (16 April 1936 – 9 Dece...      1   \n",
       "4  The Windows shell is the graphical user interf...      1   \n",
       "\n",
       "   capitalized_word_frequency  stopword_frequency  quote_frequency  \\\n",
       "0                    0.232955            0.403409         0.000000   \n",
       "1                    0.217949            0.391026         0.000000   \n",
       "2                    0.221831            0.394366         0.007042   \n",
       "3                    0.321429            0.357143         0.000000   \n",
       "4                    0.088235            0.433824         0.000000   \n",
       "\n",
       "   punctuation_ratio  average_sentence_length  \n",
       "0           0.026557                29.333333  \n",
       "1           0.022358                17.333333  \n",
       "2           0.016797                23.666667  \n",
       "3           0.024465                18.666667  \n",
       "4           0.018072                19.428571  "
      ]
     },
     "execution_count": 7,
     "metadata": {},
     "output_type": "execute_result"
    }
   ],
   "source": [
    "# Create an empty list to store extracted features\n",
    "extracted_features = []\n",
    "\n",
    "# Iterate over each text in the 'text' column and extract features\n",
    "for text in newdf['text']:\n",
    "    features = extract_stylistic_features(text)\n",
    "    extracted_features.append(features)\n",
    "\n",
    "# Convert the list of dictionaries to a DataFrame\n",
    "features_df = pd.DataFrame(extracted_features)\n",
    "\n",
    "# Concatenate the original DataFrame with the features DataFrame\n",
    "data_with_features = pd.concat([newdf, features_df], axis=1)\n",
    "\n",
    "# Display the DataFrame with extracted features\n",
    "data_with_features.head()"
   ]
  },
  {
   "cell_type": "code",
   "execution_count": 8,
   "metadata": {},
   "outputs": [],
   "source": [
    "# Tokenize the text\n",
    "data_with_features['tokens'] = data_with_features['text'].apply(word_tokenize)\n",
    "\n",
    "# Calculate TTR\n",
    "data_with_features['TTR'] = data_with_features['tokens'].apply(lambda x: len(set(x)) / len(x))\n"
   ]
  },
  {
   "cell_type": "code",
   "execution_count": 9,
   "metadata": {},
   "outputs": [
    {
     "data": {
      "text/html": [
       "<div>\n",
       "<style scoped>\n",
       "    .dataframe tbody tr th:only-of-type {\n",
       "        vertical-align: middle;\n",
       "    }\n",
       "\n",
       "    .dataframe tbody tr th {\n",
       "        vertical-align: top;\n",
       "    }\n",
       "\n",
       "    .dataframe thead th {\n",
       "        text-align: right;\n",
       "    }\n",
       "</style>\n",
       "<table border=\"1\" class=\"dataframe\">\n",
       "  <thead>\n",
       "    <tr style=\"text-align: right;\">\n",
       "      <th></th>\n",
       "      <th>text</th>\n",
       "      <th>label</th>\n",
       "      <th>capitalized_word_frequency</th>\n",
       "      <th>stopword_frequency</th>\n",
       "      <th>quote_frequency</th>\n",
       "      <th>punctuation_ratio</th>\n",
       "      <th>average_sentence_length</th>\n",
       "      <th>tokens</th>\n",
       "      <th>TTR</th>\n",
       "    </tr>\n",
       "  </thead>\n",
       "  <tbody>\n",
       "    <tr>\n",
       "      <th>0</th>\n",
       "      <td>Sekhukhune I (Matsebe; circa 1814 – 13 August ...</td>\n",
       "      <td>0</td>\n",
       "      <td>0.232955</td>\n",
       "      <td>0.403409</td>\n",
       "      <td>0.000000</td>\n",
       "      <td>0.026557</td>\n",
       "      <td>29.333333</td>\n",
       "      <td>[Sekhukhune, I, (, Matsebe, ;, circa, 1814, –,...</td>\n",
       "      <td>0.643564</td>\n",
       "    </tr>\n",
       "    <tr>\n",
       "      <th>1</th>\n",
       "      <td>Mount Washington is a  peak in the Olympic Mou...</td>\n",
       "      <td>0</td>\n",
       "      <td>0.217949</td>\n",
       "      <td>0.391026</td>\n",
       "      <td>0.000000</td>\n",
       "      <td>0.022358</td>\n",
       "      <td>17.333333</td>\n",
       "      <td>[Mount, Washington, is, a, peak, in, the, Olym...</td>\n",
       "      <td>0.584270</td>\n",
       "    </tr>\n",
       "    <tr>\n",
       "      <th>2</th>\n",
       "      <td>Acer hillsi is an extinct maple species in the...</td>\n",
       "      <td>0</td>\n",
       "      <td>0.221831</td>\n",
       "      <td>0.394366</td>\n",
       "      <td>0.007042</td>\n",
       "      <td>0.016797</td>\n",
       "      <td>23.666667</td>\n",
       "      <td>[Acer, hillsi, is, an, extinct, maple, species...</td>\n",
       "      <td>0.474194</td>\n",
       "    </tr>\n",
       "    <tr>\n",
       "      <th>3</th>\n",
       "      <td>Derrick George Sherwin (16 April 1936 – 9 Dece...</td>\n",
       "      <td>1</td>\n",
       "      <td>0.321429</td>\n",
       "      <td>0.357143</td>\n",
       "      <td>0.000000</td>\n",
       "      <td>0.024465</td>\n",
       "      <td>18.666667</td>\n",
       "      <td>[Derrick, George, Sherwin, (, 16, April, 1936,...</td>\n",
       "      <td>0.601562</td>\n",
       "    </tr>\n",
       "    <tr>\n",
       "      <th>4</th>\n",
       "      <td>The Windows shell is the graphical user interf...</td>\n",
       "      <td>1</td>\n",
       "      <td>0.088235</td>\n",
       "      <td>0.433824</td>\n",
       "      <td>0.000000</td>\n",
       "      <td>0.018072</td>\n",
       "      <td>19.428571</td>\n",
       "      <td>[The, Windows, shell, is, the, graphical, user...</td>\n",
       "      <td>0.390728</td>\n",
       "    </tr>\n",
       "  </tbody>\n",
       "</table>\n",
       "</div>"
      ],
      "text/plain": [
       "                                                text  label  \\\n",
       "0  Sekhukhune I (Matsebe; circa 1814 – 13 August ...      0   \n",
       "1  Mount Washington is a  peak in the Olympic Mou...      0   \n",
       "2  Acer hillsi is an extinct maple species in the...      0   \n",
       "3  Derrick George Sherwin (16 April 1936 – 9 Dece...      1   \n",
       "4  The Windows shell is the graphical user interf...      1   \n",
       "\n",
       "   capitalized_word_frequency  stopword_frequency  quote_frequency  \\\n",
       "0                    0.232955            0.403409         0.000000   \n",
       "1                    0.217949            0.391026         0.000000   \n",
       "2                    0.221831            0.394366         0.007042   \n",
       "3                    0.321429            0.357143         0.000000   \n",
       "4                    0.088235            0.433824         0.000000   \n",
       "\n",
       "   punctuation_ratio  average_sentence_length  \\\n",
       "0           0.026557                29.333333   \n",
       "1           0.022358                17.333333   \n",
       "2           0.016797                23.666667   \n",
       "3           0.024465                18.666667   \n",
       "4           0.018072                19.428571   \n",
       "\n",
       "                                              tokens       TTR  \n",
       "0  [Sekhukhune, I, (, Matsebe, ;, circa, 1814, –,...  0.643564  \n",
       "1  [Mount, Washington, is, a, peak, in, the, Olym...  0.584270  \n",
       "2  [Acer, hillsi, is, an, extinct, maple, species...  0.474194  \n",
       "3  [Derrick, George, Sherwin, (, 16, April, 1936,...  0.601562  \n",
       "4  [The, Windows, shell, is, the, graphical, user...  0.390728  "
      ]
     },
     "execution_count": 9,
     "metadata": {},
     "output_type": "execute_result"
    }
   ],
   "source": [
    "data_with_features.head()"
   ]
  },
  {
   "cell_type": "code",
   "execution_count": 10,
   "metadata": {},
   "outputs": [
    {
     "name": "stderr",
     "output_type": "stream",
     "text": [
      "[nltk_data] Downloading package punkt to\n",
      "[nltk_data]     /Users/xiaofeichen/nltk_data...\n",
      "[nltk_data]   Package punkt is already up-to-date!\n",
      "[nltk_data] Downloading package averaged_perceptron_tagger to\n",
      "[nltk_data]     /Users/xiaofeichen/nltk_data...\n",
      "[nltk_data]   Package averaged_perceptron_tagger is already up-to-\n",
      "[nltk_data]       date!\n",
      "[nltk_data] Downloading package stopwords to\n",
      "[nltk_data]     /Users/xiaofeichen/nltk_data...\n",
      "[nltk_data]   Package stopwords is already up-to-date!\n",
      "[nltk_data] Downloading package wordnet to\n",
      "[nltk_data]     /Users/xiaofeichen/nltk_data...\n",
      "[nltk_data]   Package wordnet is already up-to-date!\n"
     ]
    },
    {
     "data": {
      "text/plain": [
       "True"
      ]
     },
     "execution_count": 10,
     "metadata": {},
     "output_type": "execute_result"
    }
   ],
   "source": [
    "import nltk\n",
    "from nltk.tokenize import word_tokenize, sent_tokenize\n",
    "from nltk.corpus import stopwords\n",
    "from collections import Counter\n",
    "import string\n",
    "\n",
    "# Download necessary NLTK resources\n",
    "nltk.download('punkt')\n",
    "nltk.download('averaged_perceptron_tagger')\n",
    "nltk.download('stopwords')\n",
    "nltk.download('wordnet')"
   ]
  },
  {
   "cell_type": "code",
   "execution_count": 11,
   "metadata": {},
   "outputs": [
    {
     "name": "stderr",
     "output_type": "stream",
     "text": [
      "[nltk_data] Downloading package sentiwordnet to\n",
      "[nltk_data]     /Users/xiaofeichen/nltk_data...\n",
      "[nltk_data]   Package sentiwordnet is already up-to-date!\n"
     ]
    },
    {
     "data": {
      "text/plain": [
       "True"
      ]
     },
     "execution_count": 11,
     "metadata": {},
     "output_type": "execute_result"
    }
   ],
   "source": [
    "from nltk.corpus import wordnet as wn\n",
    "from nltk.corpus import sentiwordnet as swn\n",
    "\n",
    "nltk.download('sentiwordnet')"
   ]
  },
  {
   "cell_type": "code",
   "execution_count": 12,
   "metadata": {},
   "outputs": [],
   "source": [
    "def sentiment_score(tokens):\n",
    "    \"\"\"\n",
    "    Calculate sentiment score for a given list of tokens using SentiWordNet.\n",
    "\n",
    "    Parameters:\n",
    "    tokens (list): The list of tokens to analyze.\n",
    "\n",
    "    Returns:\n",
    "    float: The sentiment score.\n",
    "    \"\"\"\n",
    "    sentiment_total = 0\n",
    "\n",
    "    for token in tokens:\n",
    "        # Get the synsets for the token\n",
    "        synsets = wn.synsets(token)\n",
    "        if synsets:\n",
    "            # Consider only the first synset (most common meaning)\n",
    "            synset = synsets[0]\n",
    "            # Get the sentiment score from SentiWordNet\n",
    "            senti_synset = swn.senti_synset(synset.name())\n",
    "            sentiment_total += senti_synset.pos_score() - senti_synset.neg_score()\n",
    "\n",
    "    # Calculate the average sentiment score\n",
    "    tokens_count = len(tokens)\n",
    "    if tokens_count > 0:\n",
    "        return sentiment_total / tokens_count\n",
    "    else:\n",
    "        return 0\n",
    "\n",
    "# Apply sentiment_score function to each row in the dataframe\n",
    "data_with_features['sentiment_score'] = data_with_features['tokens'].apply(sentiment_score)\n"
   ]
  },
  {
   "cell_type": "code",
   "execution_count": 13,
   "metadata": {},
   "outputs": [
    {
     "data": {
      "text/html": [
       "<div>\n",
       "<style scoped>\n",
       "    .dataframe tbody tr th:only-of-type {\n",
       "        vertical-align: middle;\n",
       "    }\n",
       "\n",
       "    .dataframe tbody tr th {\n",
       "        vertical-align: top;\n",
       "    }\n",
       "\n",
       "    .dataframe thead th {\n",
       "        text-align: right;\n",
       "    }\n",
       "</style>\n",
       "<table border=\"1\" class=\"dataframe\">\n",
       "  <thead>\n",
       "    <tr style=\"text-align: right;\">\n",
       "      <th></th>\n",
       "      <th>text</th>\n",
       "      <th>label</th>\n",
       "      <th>capitalized_word_frequency</th>\n",
       "      <th>stopword_frequency</th>\n",
       "      <th>quote_frequency</th>\n",
       "      <th>punctuation_ratio</th>\n",
       "      <th>average_sentence_length</th>\n",
       "      <th>tokens</th>\n",
       "      <th>TTR</th>\n",
       "      <th>sentiment_score</th>\n",
       "    </tr>\n",
       "  </thead>\n",
       "  <tbody>\n",
       "    <tr>\n",
       "      <th>0</th>\n",
       "      <td>Sekhukhune I (Matsebe; circa 1814 – 13 August ...</td>\n",
       "      <td>0</td>\n",
       "      <td>0.232955</td>\n",
       "      <td>0.403409</td>\n",
       "      <td>0.000000</td>\n",
       "      <td>0.026557</td>\n",
       "      <td>29.333333</td>\n",
       "      <td>[Sekhukhune, I, (, Matsebe, ;, circa, 1814, –,...</td>\n",
       "      <td>0.643564</td>\n",
       "      <td>0.003713</td>\n",
       "    </tr>\n",
       "    <tr>\n",
       "      <th>1</th>\n",
       "      <td>Mount Washington is a  peak in the Olympic Mou...</td>\n",
       "      <td>0</td>\n",
       "      <td>0.217949</td>\n",
       "      <td>0.391026</td>\n",
       "      <td>0.000000</td>\n",
       "      <td>0.022358</td>\n",
       "      <td>17.333333</td>\n",
       "      <td>[Mount, Washington, is, a, peak, in, the, Olym...</td>\n",
       "      <td>0.584270</td>\n",
       "      <td>0.004213</td>\n",
       "    </tr>\n",
       "    <tr>\n",
       "      <th>2</th>\n",
       "      <td>Acer hillsi is an extinct maple species in the...</td>\n",
       "      <td>0</td>\n",
       "      <td>0.221831</td>\n",
       "      <td>0.394366</td>\n",
       "      <td>0.007042</td>\n",
       "      <td>0.016797</td>\n",
       "      <td>23.666667</td>\n",
       "      <td>[Acer, hillsi, is, an, extinct, maple, species...</td>\n",
       "      <td>0.474194</td>\n",
       "      <td>0.001210</td>\n",
       "    </tr>\n",
       "    <tr>\n",
       "      <th>3</th>\n",
       "      <td>Derrick George Sherwin (16 April 1936 – 9 Dece...</td>\n",
       "      <td>1</td>\n",
       "      <td>0.321429</td>\n",
       "      <td>0.357143</td>\n",
       "      <td>0.000000</td>\n",
       "      <td>0.024465</td>\n",
       "      <td>18.666667</td>\n",
       "      <td>[Derrick, George, Sherwin, (, 16, April, 1936,...</td>\n",
       "      <td>0.601562</td>\n",
       "      <td>0.000000</td>\n",
       "    </tr>\n",
       "    <tr>\n",
       "      <th>4</th>\n",
       "      <td>The Windows shell is the graphical user interf...</td>\n",
       "      <td>1</td>\n",
       "      <td>0.088235</td>\n",
       "      <td>0.433824</td>\n",
       "      <td>0.000000</td>\n",
       "      <td>0.018072</td>\n",
       "      <td>19.428571</td>\n",
       "      <td>[The, Windows, shell, is, the, graphical, user...</td>\n",
       "      <td>0.390728</td>\n",
       "      <td>0.007450</td>\n",
       "    </tr>\n",
       "  </tbody>\n",
       "</table>\n",
       "</div>"
      ],
      "text/plain": [
       "                                                text  label  \\\n",
       "0  Sekhukhune I (Matsebe; circa 1814 – 13 August ...      0   \n",
       "1  Mount Washington is a  peak in the Olympic Mou...      0   \n",
       "2  Acer hillsi is an extinct maple species in the...      0   \n",
       "3  Derrick George Sherwin (16 April 1936 – 9 Dece...      1   \n",
       "4  The Windows shell is the graphical user interf...      1   \n",
       "\n",
       "   capitalized_word_frequency  stopword_frequency  quote_frequency  \\\n",
       "0                    0.232955            0.403409         0.000000   \n",
       "1                    0.217949            0.391026         0.000000   \n",
       "2                    0.221831            0.394366         0.007042   \n",
       "3                    0.321429            0.357143         0.000000   \n",
       "4                    0.088235            0.433824         0.000000   \n",
       "\n",
       "   punctuation_ratio  average_sentence_length  \\\n",
       "0           0.026557                29.333333   \n",
       "1           0.022358                17.333333   \n",
       "2           0.016797                23.666667   \n",
       "3           0.024465                18.666667   \n",
       "4           0.018072                19.428571   \n",
       "\n",
       "                                              tokens       TTR  \\\n",
       "0  [Sekhukhune, I, (, Matsebe, ;, circa, 1814, –,...  0.643564   \n",
       "1  [Mount, Washington, is, a, peak, in, the, Olym...  0.584270   \n",
       "2  [Acer, hillsi, is, an, extinct, maple, species...  0.474194   \n",
       "3  [Derrick, George, Sherwin, (, 16, April, 1936,...  0.601562   \n",
       "4  [The, Windows, shell, is, the, graphical, user...  0.390728   \n",
       "\n",
       "   sentiment_score  \n",
       "0         0.003713  \n",
       "1         0.004213  \n",
       "2         0.001210  \n",
       "3         0.000000  \n",
       "4         0.007450  "
      ]
     },
     "execution_count": 13,
     "metadata": {},
     "output_type": "execute_result"
    }
   ],
   "source": [
    "data_with_features.head()"
   ]
  },
  {
   "cell_type": "code",
   "execution_count": 14,
   "metadata": {},
   "outputs": [],
   "source": [
    "data_with_features.to_csv('data_with_features.csv', index=False)"
   ]
  },
  {
   "cell_type": "code",
   "execution_count": 15,
   "metadata": {},
   "outputs": [
    {
     "data": {
      "image/png": "[encoded data removed]",
      "text/plain": [
       "<Figure size 432x288 with 1 Axes>"
      ]
     },
     "metadata": {
      "needs_background": "light"
     },
     "output_type": "display_data"
    }
   ],
   "source": [
    "import seaborn as sns\n",
    "import matplotlib.pyplot as plt\n",
    "\n",
    "# Plot the count plot\n",
    "sns.countplot(data=data_with_features, x='label')\n",
    "plt.title('Distribution of Labels')\n",
    "plt.xlabel('Label')\n",
    "plt.ylabel('Count')\n",
    "plt.show()"
   ]
  },
  {
   "cell_type": "code",
   "execution_count": 16,
   "metadata": {},
   "outputs": [
    {
     "name": "stdout",
     "output_type": "stream",
     "text": [
      "0\n"
     ]
    }
   ],
   "source": [
    "null_values = data_with_features['sentiment_score'].isnull().sum()\n",
    "print(null_values)"
   ]
  },
  {
   "cell_type": "code",
   "execution_count": 17,
   "metadata": {},
   "outputs": [
    {
     "name": "stdout",
     "output_type": "stream",
     "text": [
      "0\n"
     ]
    }
   ],
   "source": [
    "null_values_TTR = data_with_features['TTR'].isnull().sum()\n",
    "print(null_values_TTR)"
   ]
  },
  {
   "cell_type": "code",
   "execution_count": 19,
   "metadata": {},
   "outputs": [],
   "source": [
    "from sklearn.preprocessing import StandardScaler\n",
    "from sklearn.model_selection import train_test_split, GridSearchCV\n",
    "from sklearn.neighbors import KNeighborsClassifier\n",
    "from sklearn.metrics import accuracy_score, precision_score, recall_score, f1_score\n",
    "import matplotlib.pyplot as plt\n",
    "\n",
    "# Splitting the data into features (X) and labels (y)\n",
    "X = data_with_features.drop(['text', 'label', 'tokens'], axis=1)  # Features\n",
    "y = data_with_features['label']  # Labels\n",
    "\n",
    "# Splitting the data into training and testing sets\n",
    "X_train, X_test, y_train, y_test = train_test_split(X, y, test_size=0.4, random_state=2024)\n",
    "\n",
    "# Scale the data\n",
    "scaler = StandardScaler()\n",
    "X_train_scaled = scaler.fit_transform(X_train)\n",
    "X_test_scaled = scaler.transform(X_test)\n",
    "\n",
    "# Define a range of k values to test\n",
    "k_values = list(range(1, 21))\n",
    "\n",
    "# Define the parameter grid for GridSearchCV\n",
    "param_grid = {'n_neighbors': k_values}\n",
    "\n",
    "# Initialize KNN classifier with desired parameters\n",
    "knn = KNeighborsClassifier()\n",
    "\n",
    "# Initialize GridSearchCV\n",
    "grid_search = GridSearchCV(knn, param_grid, cv=5, scoring='accuracy')\n",
    "\n",
    "# Fit the model to find the best parameters\n",
    "grid_search.fit(X_train_scaled, y_train)\n",
    "\n",
    "# Get the best parameters\n",
    "best_k = grid_search.best_params_['n_neighbors']\n"
   ]
  },
  {
   "cell_type": "code",
   "execution_count": 20,
   "metadata": {},
   "outputs": [
    {
     "data": {
      "text/plain": [
       "19"
      ]
     },
     "execution_count": 20,
     "metadata": {},
     "output_type": "execute_result"
    }
   ],
   "source": [
    "best_k"
   ]
  },
  {
   "cell_type": "code",
   "execution_count": 21,
   "metadata": {},
   "outputs": [
    {
     "data": {
      "image/png": "[encoded data removed]",
      "text/plain": [
       "<Figure size 432x288 with 1 Axes>"
      ]
     },
     "metadata": {
      "needs_background": "light"
     },
     "output_type": "display_data"
    }
   ],
   "source": [
    "# Plotting the elbow diagram\n",
    "plt.plot(k_values, grid_search.cv_results_['mean_test_score'], marker='o', linestyle='-')\n",
    "plt.xlabel('Number of Neighbors (k)')\n",
    "plt.ylabel('Mean Test Score')\n",
    "plt.xticks(k_values)\n",
    "plt.grid(True)\n",
    "plt.show()"
   ]
  },
  {
   "cell_type": "code",
   "execution_count": 22,
   "metadata": {},
   "outputs": [
    {
     "name": "stdout",
     "output_type": "stream",
     "text": [
      "Accuracy: 0.7792833333333333\n",
      "Precision: 0.7779252010946182\n",
      "Recall: 0.7817369710504825\n",
      "F1 Score: 0.7798264281439117\n"
     ]
    }
   ],
   "source": [
    "# Initialize KNN classifier with desired parameters\n",
    "knn = KNeighborsClassifier(n_neighbors=best_k, weights='distance', metric='manhattan', algorithm='ball_tree')\n",
    "\n",
    "# Training the model with the best value of k\n",
    "knn.fit(X_train_scaled, y_train)\n",
    "\n",
    "# Predictions on the test set\n",
    "y_pred = knn.predict(X_test_scaled)\n",
    "\n",
    "# Evaluation metrics\n",
    "accuracy = accuracy_score(y_test, y_pred)\n",
    "precision = precision_score(y_test, y_pred)\n",
    "recall = recall_score(y_test, y_pred)\n",
    "f1 = f1_score(y_test, y_pred)\n",
    "\n",
    "# Print evaluation metrics\n",
    "print(f'Accuracy: {accuracy}')\n",
    "print(f'Precision: {precision}')\n",
    "print(f'Recall: {recall}')\n",
    "print(f'F1 Score: {f1}')"
   ]
  },
  {
   "cell_type": "code",
   "execution_count": 1,
   "metadata": {},
   "outputs": [],
   "source": [
    "import pandas as pd\n",
    "\n",
    "data_with_features = pd.read_csv('/Users/xiaofeichen/Downloads/BT5153/data_with_features.csv')"
   ]
  },
  {
   "cell_type": "code",
   "execution_count": 4,
   "metadata": {},
   "outputs": [],
   "source": [
    "from sklearn.preprocessing import StandardScaler\n",
    "from sklearn.model_selection import train_test_split\n",
    "from sklearn.svm import SVC\n",
    "from sklearn.metrics import accuracy_score, precision_score, recall_score, f1_score\n",
    "\n",
    "# Splitting the data into features (X) and labels (y)\n",
    "X = data_with_features.drop(['text', 'label', 'tokens'], axis=1)  # Features\n",
    "y = data_with_features['label']  # Labels\n",
    "\n",
    "# Splitting the data into training and testing sets\n",
    "X_train, X_test, y_train, y_test = train_test_split(X, y, test_size=0.4, random_state=2024)\n",
    "\n",
    "# Scale the data\n",
    "scaler = StandardScaler()\n",
    "X_train_scaled = scaler.fit_transform(X_train)\n",
    "X_test_scaled = scaler.transform(X_test)\n"
   ]
  },
  {
   "cell_type": "code",
   "execution_count": 5,
   "metadata": {},
   "outputs": [
    {
     "name": "stdout",
     "output_type": "stream",
     "text": [
      "Accuracy: 0.7910166666666667\n",
      "Precision: 0.7890928958129833\n",
      "Recall: 0.794353427442876\n",
      "F1 Score: 0.7917144233484493\n"
     ]
    }
   ],
   "source": [
    "# Train the model with the best parameters\n",
    "svm = SVC(C=1, kernel='rbf', gamma='auto')\n",
    "svm.fit(X_train_scaled, y_train)\n",
    "\n",
    "# Predictions on the test set\n",
    "y_pred = svm.predict(X_test_scaled)\n",
    "\n",
    "# Evaluation metrics\n",
    "accuracy = accuracy_score(y_test, y_pred)\n",
    "precision = precision_score(y_test, y_pred)\n",
    "recall = recall_score(y_test, y_pred)\n",
    "f1 = f1_score(y_test, y_pred)\n",
    "\n",
    "# Print evaluation metrics\n",
    "print(f'Accuracy: {accuracy}')\n",
    "print(f'Precision: {precision}')\n",
    "print(f'Recall: {recall}')\n",
    "print(f'F1 Score: {f1}')"
   ]
  },
  {
   "cell_type": "markdown",
   "metadata": {},
   "source": []
  }
 ],
 "metadata": {
  "kernelspec": {
   "display_name": "base",
   "language": "python",
   "name": "python3"
  },
  "language_info": {
   "codemirror_mode": {
    "name": "ipython",
    "version": 3
   },
   "file_extension": ".py",
   "mimetype": "text/x-python",
   "name": "python",
   "nbconvert_exporter": "python",
   "pygments_lexer": "ipython3",
   "version": "3.8.8"
  },
  "orig_nbformat": 4,
  "vscode": {
   "interpreter": {
    "hash": "2947f85c62031f982497084b91e40cf6fcaae58f7180b18f13a1c5c72c58377b"
   }
  }
 },
 "nbformat": 4,
 "nbformat_minor": 2
}
